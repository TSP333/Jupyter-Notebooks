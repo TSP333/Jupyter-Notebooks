{
 "cells": [
  {
   "cell_type": "code",
   "execution_count": 79,
   "id": "577431b3",
   "metadata": {},
   "outputs": [],
   "source": [
    "import pandas as pd"
   ]
  },
  {
   "cell_type": "code",
   "execution_count": 80,
   "id": "6ccad7a5",
   "metadata": {},
   "outputs": [
    {
     "data": {
      "text/html": [
       "<div>\n",
       "<style scoped>\n",
       "    .dataframe tbody tr th:only-of-type {\n",
       "        vertical-align: middle;\n",
       "    }\n",
       "\n",
       "    .dataframe tbody tr th {\n",
       "        vertical-align: top;\n",
       "    }\n",
       "\n",
       "    .dataframe thead th {\n",
       "        text-align: right;\n",
       "    }\n",
       "</style>\n",
       "<table border=\"1\" class=\"dataframe\">\n",
       "  <thead>\n",
       "    <tr style=\"text-align: right;\">\n",
       "      <th></th>\n",
       "      <th>Product Name</th>\n",
       "      <th>Product URL</th>\n",
       "      <th>Brand</th>\n",
       "      <th>Sale Price</th>\n",
       "      <th>Mrp</th>\n",
       "      <th>Number Of Ratings</th>\n",
       "      <th>Number Of Reviews</th>\n",
       "      <th>Upc</th>\n",
       "      <th>Star Rating</th>\n",
       "      <th>Ram</th>\n",
       "    </tr>\n",
       "  </thead>\n",
       "  <tbody>\n",
       "    <tr>\n",
       "      <th>0</th>\n",
       "      <td>APPLE iPhone 8 Plus (Gold, 64 GB)</td>\n",
       "      <td>https://www.flipkart.com/apple-iphone-8-plus-g...</td>\n",
       "      <td>Apple</td>\n",
       "      <td>49900</td>\n",
       "      <td>49900</td>\n",
       "      <td>3431</td>\n",
       "      <td>356</td>\n",
       "      <td>MOBEXRGV7EHHTGUH</td>\n",
       "      <td>4.6</td>\n",
       "      <td>2 GB</td>\n",
       "    </tr>\n",
       "    <tr>\n",
       "      <th>1</th>\n",
       "      <td>APPLE iPhone 8 Plus (Space Grey, 256 GB)</td>\n",
       "      <td>https://www.flipkart.com/apple-iphone-8-plus-s...</td>\n",
       "      <td>Apple</td>\n",
       "      <td>84900</td>\n",
       "      <td>84900</td>\n",
       "      <td>3431</td>\n",
       "      <td>356</td>\n",
       "      <td>MOBEXRGVAC6TJT4F</td>\n",
       "      <td>4.6</td>\n",
       "      <td>2 GB</td>\n",
       "    </tr>\n",
       "    <tr>\n",
       "      <th>2</th>\n",
       "      <td>APPLE iPhone 8 Plus (Silver, 256 GB)</td>\n",
       "      <td>https://www.flipkart.com/apple-iphone-8-plus-s...</td>\n",
       "      <td>Apple</td>\n",
       "      <td>84900</td>\n",
       "      <td>84900</td>\n",
       "      <td>3431</td>\n",
       "      <td>356</td>\n",
       "      <td>MOBEXRGVGETABXWZ</td>\n",
       "      <td>4.6</td>\n",
       "      <td>2 GB</td>\n",
       "    </tr>\n",
       "    <tr>\n",
       "      <th>3</th>\n",
       "      <td>APPLE iPhone 8 (Silver, 256 GB)</td>\n",
       "      <td>https://www.flipkart.com/apple-iphone-8-silver...</td>\n",
       "      <td>Apple</td>\n",
       "      <td>77000</td>\n",
       "      <td>77000</td>\n",
       "      <td>11202</td>\n",
       "      <td>794</td>\n",
       "      <td>MOBEXRGVMZWUHCBA</td>\n",
       "      <td>NaN</td>\n",
       "      <td>2 GB</td>\n",
       "    </tr>\n",
       "    <tr>\n",
       "      <th>4</th>\n",
       "      <td>APPLE iPhone 8 (Gold, 256 GB)</td>\n",
       "      <td>https://www.flipkart.com/apple-iphone-8-gold-2...</td>\n",
       "      <td>Apple</td>\n",
       "      <td>77000</td>\n",
       "      <td>77000</td>\n",
       "      <td>11202</td>\n",
       "      <td>794</td>\n",
       "      <td>MOBEXRGVPK7PFEJZ</td>\n",
       "      <td>4.5</td>\n",
       "      <td>2 GB</td>\n",
       "    </tr>\n",
       "    <tr>\n",
       "      <th>...</th>\n",
       "      <td>...</td>\n",
       "      <td>...</td>\n",
       "      <td>...</td>\n",
       "      <td>...</td>\n",
       "      <td>...</td>\n",
       "      <td>...</td>\n",
       "      <td>...</td>\n",
       "      <td>...</td>\n",
       "      <td>...</td>\n",
       "      <td>...</td>\n",
       "    </tr>\n",
       "    <tr>\n",
       "      <th>57</th>\n",
       "      <td>APPLE iPhone SE (Black, 64 GB)</td>\n",
       "      <td>https://www.flipkart.com/apple-iphone-se-black...</td>\n",
       "      <td>Apple</td>\n",
       "      <td>29999</td>\n",
       "      <td>39900</td>\n",
       "      <td>95909</td>\n",
       "      <td>8161</td>\n",
       "      <td>MOBFWQ6BR3MK7AUG</td>\n",
       "      <td>4.5</td>\n",
       "      <td>4 GB</td>\n",
       "    </tr>\n",
       "    <tr>\n",
       "      <th>58</th>\n",
       "      <td>APPLE iPhone 11 (Purple, 64 GB)</td>\n",
       "      <td>https://www.flipkart.com/apple-iphone-11-purpl...</td>\n",
       "      <td>Apple</td>\n",
       "      <td>46999</td>\n",
       "      <td>54900</td>\n",
       "      <td>43470</td>\n",
       "      <td>3331</td>\n",
       "      <td>MOBFWQ6BTFFJKGKE</td>\n",
       "      <td>4.6</td>\n",
       "      <td>4 GB</td>\n",
       "    </tr>\n",
       "    <tr>\n",
       "      <th>59</th>\n",
       "      <td>APPLE iPhone 11 (White, 64 GB)</td>\n",
       "      <td>https://www.flipkart.com/apple-iphone-11-white...</td>\n",
       "      <td>Apple</td>\n",
       "      <td>46999</td>\n",
       "      <td>54900</td>\n",
       "      <td>43470</td>\n",
       "      <td>3331</td>\n",
       "      <td>MOBFWQ6BVWVEH3XE</td>\n",
       "      <td>4.6</td>\n",
       "      <td>4 GB</td>\n",
       "    </tr>\n",
       "    <tr>\n",
       "      <th>60</th>\n",
       "      <td>APPLE iPhone 11 (Black, 64 GB)</td>\n",
       "      <td>https://www.flipkart.com/apple-iphone-11-black...</td>\n",
       "      <td>Apple</td>\n",
       "      <td>46999</td>\n",
       "      <td>54900</td>\n",
       "      <td>43470</td>\n",
       "      <td>3331</td>\n",
       "      <td>MOBFWQ6BXGJCEYNY</td>\n",
       "      <td>4.6</td>\n",
       "      <td>4 GB</td>\n",
       "    </tr>\n",
       "    <tr>\n",
       "      <th>61</th>\n",
       "      <td>APPLE iPhone 11 (Red, 64 GB)</td>\n",
       "      <td>https://www.flipkart.com/apple-iphone-11-red-6...</td>\n",
       "      <td>Apple</td>\n",
       "      <td>46999</td>\n",
       "      <td>54900</td>\n",
       "      <td>43470</td>\n",
       "      <td>3331</td>\n",
       "      <td>MOBFWQ6BYYV3FCU7</td>\n",
       "      <td>4.6</td>\n",
       "      <td>4 GB</td>\n",
       "    </tr>\n",
       "  </tbody>\n",
       "</table>\n",
       "<p>62 rows × 10 columns</p>\n",
       "</div>"
      ],
      "text/plain": [
       "                                Product Name  \\\n",
       "0          APPLE iPhone 8 Plus (Gold, 64 GB)   \n",
       "1   APPLE iPhone 8 Plus (Space Grey, 256 GB)   \n",
       "2       APPLE iPhone 8 Plus (Silver, 256 GB)   \n",
       "3            APPLE iPhone 8 (Silver, 256 GB)   \n",
       "4              APPLE iPhone 8 (Gold, 256 GB)   \n",
       "..                                       ...   \n",
       "57            APPLE iPhone SE (Black, 64 GB)   \n",
       "58           APPLE iPhone 11 (Purple, 64 GB)   \n",
       "59            APPLE iPhone 11 (White, 64 GB)   \n",
       "60            APPLE iPhone 11 (Black, 64 GB)   \n",
       "61              APPLE iPhone 11 (Red, 64 GB)   \n",
       "\n",
       "                                          Product URL  Brand  Sale Price  \\\n",
       "0   https://www.flipkart.com/apple-iphone-8-plus-g...  Apple       49900   \n",
       "1   https://www.flipkart.com/apple-iphone-8-plus-s...  Apple       84900   \n",
       "2   https://www.flipkart.com/apple-iphone-8-plus-s...  Apple       84900   \n",
       "3   https://www.flipkart.com/apple-iphone-8-silver...  Apple       77000   \n",
       "4   https://www.flipkart.com/apple-iphone-8-gold-2...  Apple       77000   \n",
       "..                                                ...    ...         ...   \n",
       "57  https://www.flipkart.com/apple-iphone-se-black...  Apple       29999   \n",
       "58  https://www.flipkart.com/apple-iphone-11-purpl...  Apple       46999   \n",
       "59  https://www.flipkart.com/apple-iphone-11-white...  Apple       46999   \n",
       "60  https://www.flipkart.com/apple-iphone-11-black...  Apple       46999   \n",
       "61  https://www.flipkart.com/apple-iphone-11-red-6...  Apple       46999   \n",
       "\n",
       "      Mrp  Number Of Ratings  Number Of Reviews               Upc  \\\n",
       "0   49900               3431                356  MOBEXRGV7EHHTGUH   \n",
       "1   84900               3431                356  MOBEXRGVAC6TJT4F   \n",
       "2   84900               3431                356  MOBEXRGVGETABXWZ   \n",
       "3   77000              11202                794  MOBEXRGVMZWUHCBA   \n",
       "4   77000              11202                794  MOBEXRGVPK7PFEJZ   \n",
       "..    ...                ...                ...               ...   \n",
       "57  39900              95909               8161  MOBFWQ6BR3MK7AUG   \n",
       "58  54900              43470               3331  MOBFWQ6BTFFJKGKE   \n",
       "59  54900              43470               3331  MOBFWQ6BVWVEH3XE   \n",
       "60  54900              43470               3331  MOBFWQ6BXGJCEYNY   \n",
       "61  54900              43470               3331  MOBFWQ6BYYV3FCU7   \n",
       "\n",
       "    Star Rating   Ram  \n",
       "0           4.6  2 GB  \n",
       "1           4.6  2 GB  \n",
       "2           4.6  2 GB  \n",
       "3           NaN  2 GB  \n",
       "4           4.5  2 GB  \n",
       "..          ...   ...  \n",
       "57          4.5  4 GB  \n",
       "58          4.6  4 GB  \n",
       "59          4.6  4 GB  \n",
       "60          4.6  4 GB  \n",
       "61          4.6  4 GB  \n",
       "\n",
       "[62 rows x 10 columns]"
      ]
     },
     "execution_count": 80,
     "metadata": {},
     "output_type": "execute_result"
    }
   ],
   "source": [
    "df = pd.read_csv('iphone.csv')\n",
    "df"
   ]
  },
  {
   "cell_type": "markdown",
   "id": "9f75187b",
   "metadata": {},
   "source": [
    "\n",
    "1 - The column names have spaces . rename the column names to have underscore '_' instead of space (try to do in one go instead of specifying each column nam in rename method)"
   ]
  },
  {
   "cell_type": "code",
   "execution_count": 81,
   "id": "658b9dd3",
   "metadata": {},
   "outputs": [],
   "source": [
    "df.columns =df.columns.str.replace(' ', '_')"
   ]
  },
  {
   "cell_type": "markdown",
   "id": "8113951a",
   "metadata": {},
   "source": [
    "2- start rating for some of the models is missing in the dataset. fill those missing values with the average rating all the models.\n"
   ]
  },
  {
   "cell_type": "code",
   "execution_count": 82,
   "id": "3c9549b0",
   "metadata": {},
   "outputs": [
    {
     "data": {
      "text/html": [
       "<div>\n",
       "<style scoped>\n",
       "    .dataframe tbody tr th:only-of-type {\n",
       "        vertical-align: middle;\n",
       "    }\n",
       "\n",
       "    .dataframe tbody tr th {\n",
       "        vertical-align: top;\n",
       "    }\n",
       "\n",
       "    .dataframe thead th {\n",
       "        text-align: right;\n",
       "    }\n",
       "</style>\n",
       "<table border=\"1\" class=\"dataframe\">\n",
       "  <thead>\n",
       "    <tr style=\"text-align: right;\">\n",
       "      <th></th>\n",
       "      <th>Product_Name</th>\n",
       "      <th>Product_URL</th>\n",
       "      <th>Brand</th>\n",
       "      <th>Sale_Price</th>\n",
       "      <th>Mrp</th>\n",
       "      <th>Number_Of_Ratings</th>\n",
       "      <th>Number_Of_Reviews</th>\n",
       "      <th>Upc</th>\n",
       "      <th>Star_Rating</th>\n",
       "      <th>Ram</th>\n",
       "    </tr>\n",
       "  </thead>\n",
       "  <tbody>\n",
       "    <tr>\n",
       "      <th>0</th>\n",
       "      <td>APPLE iPhone 8 Plus (Gold, 64 GB)</td>\n",
       "      <td>https://www.flipkart.com/apple-iphone-8-plus-g...</td>\n",
       "      <td>Apple</td>\n",
       "      <td>49900</td>\n",
       "      <td>49900</td>\n",
       "      <td>3431</td>\n",
       "      <td>356</td>\n",
       "      <td>MOBEXRGV7EHHTGUH</td>\n",
       "      <td>4.600000</td>\n",
       "      <td>2 GB</td>\n",
       "    </tr>\n",
       "    <tr>\n",
       "      <th>1</th>\n",
       "      <td>APPLE iPhone 8 Plus (Space Grey, 256 GB)</td>\n",
       "      <td>https://www.flipkart.com/apple-iphone-8-plus-s...</td>\n",
       "      <td>Apple</td>\n",
       "      <td>84900</td>\n",
       "      <td>84900</td>\n",
       "      <td>3431</td>\n",
       "      <td>356</td>\n",
       "      <td>MOBEXRGVAC6TJT4F</td>\n",
       "      <td>4.600000</td>\n",
       "      <td>2 GB</td>\n",
       "    </tr>\n",
       "    <tr>\n",
       "      <th>2</th>\n",
       "      <td>APPLE iPhone 8 Plus (Silver, 256 GB)</td>\n",
       "      <td>https://www.flipkart.com/apple-iphone-8-plus-s...</td>\n",
       "      <td>Apple</td>\n",
       "      <td>84900</td>\n",
       "      <td>84900</td>\n",
       "      <td>3431</td>\n",
       "      <td>356</td>\n",
       "      <td>MOBEXRGVGETABXWZ</td>\n",
       "      <td>4.600000</td>\n",
       "      <td>2 GB</td>\n",
       "    </tr>\n",
       "    <tr>\n",
       "      <th>3</th>\n",
       "      <td>APPLE iPhone 8 (Silver, 256 GB)</td>\n",
       "      <td>https://www.flipkart.com/apple-iphone-8-silver...</td>\n",
       "      <td>Apple</td>\n",
       "      <td>77000</td>\n",
       "      <td>77000</td>\n",
       "      <td>11202</td>\n",
       "      <td>794</td>\n",
       "      <td>MOBEXRGVMZWUHCBA</td>\n",
       "      <td>4.576271</td>\n",
       "      <td>2 GB</td>\n",
       "    </tr>\n",
       "    <tr>\n",
       "      <th>4</th>\n",
       "      <td>APPLE iPhone 8 (Gold, 256 GB)</td>\n",
       "      <td>https://www.flipkart.com/apple-iphone-8-gold-2...</td>\n",
       "      <td>Apple</td>\n",
       "      <td>77000</td>\n",
       "      <td>77000</td>\n",
       "      <td>11202</td>\n",
       "      <td>794</td>\n",
       "      <td>MOBEXRGVPK7PFEJZ</td>\n",
       "      <td>4.500000</td>\n",
       "      <td>2 GB</td>\n",
       "    </tr>\n",
       "    <tr>\n",
       "      <th>...</th>\n",
       "      <td>...</td>\n",
       "      <td>...</td>\n",
       "      <td>...</td>\n",
       "      <td>...</td>\n",
       "      <td>...</td>\n",
       "      <td>...</td>\n",
       "      <td>...</td>\n",
       "      <td>...</td>\n",
       "      <td>...</td>\n",
       "      <td>...</td>\n",
       "    </tr>\n",
       "    <tr>\n",
       "      <th>57</th>\n",
       "      <td>APPLE iPhone SE (Black, 64 GB)</td>\n",
       "      <td>https://www.flipkart.com/apple-iphone-se-black...</td>\n",
       "      <td>Apple</td>\n",
       "      <td>29999</td>\n",
       "      <td>39900</td>\n",
       "      <td>95909</td>\n",
       "      <td>8161</td>\n",
       "      <td>MOBFWQ6BR3MK7AUG</td>\n",
       "      <td>4.500000</td>\n",
       "      <td>4 GB</td>\n",
       "    </tr>\n",
       "    <tr>\n",
       "      <th>58</th>\n",
       "      <td>APPLE iPhone 11 (Purple, 64 GB)</td>\n",
       "      <td>https://www.flipkart.com/apple-iphone-11-purpl...</td>\n",
       "      <td>Apple</td>\n",
       "      <td>46999</td>\n",
       "      <td>54900</td>\n",
       "      <td>43470</td>\n",
       "      <td>3331</td>\n",
       "      <td>MOBFWQ6BTFFJKGKE</td>\n",
       "      <td>4.600000</td>\n",
       "      <td>4 GB</td>\n",
       "    </tr>\n",
       "    <tr>\n",
       "      <th>59</th>\n",
       "      <td>APPLE iPhone 11 (White, 64 GB)</td>\n",
       "      <td>https://www.flipkart.com/apple-iphone-11-white...</td>\n",
       "      <td>Apple</td>\n",
       "      <td>46999</td>\n",
       "      <td>54900</td>\n",
       "      <td>43470</td>\n",
       "      <td>3331</td>\n",
       "      <td>MOBFWQ6BVWVEH3XE</td>\n",
       "      <td>4.600000</td>\n",
       "      <td>4 GB</td>\n",
       "    </tr>\n",
       "    <tr>\n",
       "      <th>60</th>\n",
       "      <td>APPLE iPhone 11 (Black, 64 GB)</td>\n",
       "      <td>https://www.flipkart.com/apple-iphone-11-black...</td>\n",
       "      <td>Apple</td>\n",
       "      <td>46999</td>\n",
       "      <td>54900</td>\n",
       "      <td>43470</td>\n",
       "      <td>3331</td>\n",
       "      <td>MOBFWQ6BXGJCEYNY</td>\n",
       "      <td>4.600000</td>\n",
       "      <td>4 GB</td>\n",
       "    </tr>\n",
       "    <tr>\n",
       "      <th>61</th>\n",
       "      <td>APPLE iPhone 11 (Red, 64 GB)</td>\n",
       "      <td>https://www.flipkart.com/apple-iphone-11-red-6...</td>\n",
       "      <td>Apple</td>\n",
       "      <td>46999</td>\n",
       "      <td>54900</td>\n",
       "      <td>43470</td>\n",
       "      <td>3331</td>\n",
       "      <td>MOBFWQ6BYYV3FCU7</td>\n",
       "      <td>4.600000</td>\n",
       "      <td>4 GB</td>\n",
       "    </tr>\n",
       "  </tbody>\n",
       "</table>\n",
       "<p>62 rows × 10 columns</p>\n",
       "</div>"
      ],
      "text/plain": [
       "                                Product_Name  \\\n",
       "0          APPLE iPhone 8 Plus (Gold, 64 GB)   \n",
       "1   APPLE iPhone 8 Plus (Space Grey, 256 GB)   \n",
       "2       APPLE iPhone 8 Plus (Silver, 256 GB)   \n",
       "3            APPLE iPhone 8 (Silver, 256 GB)   \n",
       "4              APPLE iPhone 8 (Gold, 256 GB)   \n",
       "..                                       ...   \n",
       "57            APPLE iPhone SE (Black, 64 GB)   \n",
       "58           APPLE iPhone 11 (Purple, 64 GB)   \n",
       "59            APPLE iPhone 11 (White, 64 GB)   \n",
       "60            APPLE iPhone 11 (Black, 64 GB)   \n",
       "61              APPLE iPhone 11 (Red, 64 GB)   \n",
       "\n",
       "                                          Product_URL  Brand  Sale_Price  \\\n",
       "0   https://www.flipkart.com/apple-iphone-8-plus-g...  Apple       49900   \n",
       "1   https://www.flipkart.com/apple-iphone-8-plus-s...  Apple       84900   \n",
       "2   https://www.flipkart.com/apple-iphone-8-plus-s...  Apple       84900   \n",
       "3   https://www.flipkart.com/apple-iphone-8-silver...  Apple       77000   \n",
       "4   https://www.flipkart.com/apple-iphone-8-gold-2...  Apple       77000   \n",
       "..                                                ...    ...         ...   \n",
       "57  https://www.flipkart.com/apple-iphone-se-black...  Apple       29999   \n",
       "58  https://www.flipkart.com/apple-iphone-11-purpl...  Apple       46999   \n",
       "59  https://www.flipkart.com/apple-iphone-11-white...  Apple       46999   \n",
       "60  https://www.flipkart.com/apple-iphone-11-black...  Apple       46999   \n",
       "61  https://www.flipkart.com/apple-iphone-11-red-6...  Apple       46999   \n",
       "\n",
       "      Mrp  Number_Of_Ratings  Number_Of_Reviews               Upc  \\\n",
       "0   49900               3431                356  MOBEXRGV7EHHTGUH   \n",
       "1   84900               3431                356  MOBEXRGVAC6TJT4F   \n",
       "2   84900               3431                356  MOBEXRGVGETABXWZ   \n",
       "3   77000              11202                794  MOBEXRGVMZWUHCBA   \n",
       "4   77000              11202                794  MOBEXRGVPK7PFEJZ   \n",
       "..    ...                ...                ...               ...   \n",
       "57  39900              95909               8161  MOBFWQ6BR3MK7AUG   \n",
       "58  54900              43470               3331  MOBFWQ6BTFFJKGKE   \n",
       "59  54900              43470               3331  MOBFWQ6BVWVEH3XE   \n",
       "60  54900              43470               3331  MOBFWQ6BXGJCEYNY   \n",
       "61  54900              43470               3331  MOBFWQ6BYYV3FCU7   \n",
       "\n",
       "    Star_Rating   Ram  \n",
       "0      4.600000  2 GB  \n",
       "1      4.600000  2 GB  \n",
       "2      4.600000  2 GB  \n",
       "3      4.576271  2 GB  \n",
       "4      4.500000  2 GB  \n",
       "..          ...   ...  \n",
       "57     4.500000  4 GB  \n",
       "58     4.600000  4 GB  \n",
       "59     4.600000  4 GB  \n",
       "60     4.600000  4 GB  \n",
       "61     4.600000  4 GB  \n",
       "\n",
       "[62 rows x 10 columns]"
      ]
     },
     "execution_count": 82,
     "metadata": {},
     "output_type": "execute_result"
    }
   ],
   "source": [
    "df['Star_Rating'].fillna(value=df['Star_Rating'].mean(), inplace=True)\n",
    "df"
   ]
  },
  {
   "cell_type": "markdown",
   "id": "02b03c44",
   "metadata": {},
   "source": [
    "3- Now instead of filling missing values with avg rating of full dataset , fill with avg rating based on RAM. example :  if rating for a 2 gb phone is missing then take average of all other 2 gb phones rating and fill that value. "
   ]
  },
  {
   "cell_type": "code",
   "execution_count": 83,
   "id": "855bf7c4",
   "metadata": {},
   "outputs": [],
   "source": [
    "ram_na = (df['Ram'] == '2GB') & df['Star_Rating'].isna()\n",
    "df['Star_Rating'] = df.groupby('Ram')['Star_Rating'].transform(lambda x: x.fillna(x.mean()))"
   ]
  },
  {
   "cell_type": "markdown",
   "id": "987499bc",
   "metadata": {},
   "source": [
    "4- create a new column in the dataframe \"Discount_Percentage\" based on MRP and sale value"
   ]
  },
  {
   "cell_type": "code",
   "execution_count": 84,
   "id": "11fd77e2",
   "metadata": {},
   "outputs": [],
   "source": [
    "df['discount_percentage'] = ((df['Mrp']-df['Sale_Price']) /df['Mrp']) *100"
   ]
  },
  {
   "cell_type": "markdown",
   "id": "4f84ed11",
   "metadata": {},
   "source": [
    "5- which model has highest percent discount ?"
   ]
  },
  {
   "cell_type": "code",
   "execution_count": 85,
   "id": "9d7644a5",
   "metadata": {},
   "outputs": [
    {
     "data": {
      "text/plain": [
       "'APPLE iPhone 11 Pro (Midnight Green, 64 GB)'"
      ]
     },
     "execution_count": 85,
     "metadata": {},
     "output_type": "execute_result"
    }
   ],
   "source": [
    "max_discount_model = df.loc[df['discount_percentage'].idxmax(), 'Product_Name']\n",
    "max_discount_model"
   ]
  },
  {
   "cell_type": "markdown",
   "id": "0f0061af",
   "metadata": {},
   "source": [
    "6- find total number of models for each color, total no of models  each space configuration (128 GB , 64 GB etc), total number of models by iphone version.\n"
   ]
  },
  {
   "cell_type": "code",
   "execution_count": 96,
   "id": "913ee434",
   "metadata": {},
   "outputs": [
    {
     "name": "stdout",
     "output_type": "stream",
     "text": [
      "Space Configuration: 512 GB, Count: 4\n",
      "Space Configuration: 256 GB, Count: 14\n",
      "Space Configuration: 64 GB, Count: 20\n",
      "Space Configuration: 128 GB, Count: 24\n",
      "iPhone Version: XS, Count: 1\n",
      "iPhone Version: SE, Count: 6\n",
      "iPhone Version: 8, Count: 8\n",
      "iPhone Version: 11, Count: 16\n",
      "iPhone Version: XR, Count: 5\n",
      "iPhone Version: 12, Count: 26\n",
      "Color: Black, Count: 10\n",
      "Color: Green, Count: 1\n",
      "Color: Midnight Green, Count: 4\n",
      "Color: Coral, Count: 1\n",
      "Color: RED, Count: 1\n",
      "Color: Gold, Count: 6\n",
      "Color: White, Count: 10\n",
      "Color: Pacific Blue, Count: 4\n",
      "Color: Red, Count: 5\n",
      "Color: Blue, Count: 2\n",
      "Color: Purple, Count: 1\n",
      "Color: Space Grey, Count: 6\n",
      "Color: Graphite, Count: 4\n",
      "Color: Silver, Count: 7\n"
     ]
    }
   ],
   "source": [
    "import re\n",
    "\n",
    "# Extract space configurations, colors, and iPhone versions using regex\n",
    "space_configurations = [re.findall(r'(\\d+ GB)', name)[0] for name in df['Product_Name']]\n",
    "colors = [re.findall(r'\\((.*?),', name)[0] for name in df['Product_Name']]\n",
    "iphone_versions = [re.findall(r'iPhone (\\w+)', name)[0] for name in df['Product_Name']]\n",
    "\n",
    "# Count the number of models for each space configuration\n",
    "model_config = {config: space_configurations.count(config) for config in set(space_configurations)}\n",
    "\n",
    "# Count the number of models for each iPhone version\n",
    "model_version = {version: iphone_versions.count(version) for version in set(iphone_versions)}\n",
    "\n",
    "# Count the number of models for each color\n",
    "model_colors = {color: colors.count(color) for color in set(colors)}\n",
    "\n",
    "# Print the results for space configurations\n",
    "for config, count in model_config.items():\n",
    "    print(f\"Space Configuration: {config}, Count: {count}\")\n",
    "\n",
    "# Print the results for iPhone versions\n",
    "for version, count in model_version.items():\n",
    "    print(f\"iPhone Version: {version}, Count: {count}\")\n",
    "\n",
    "# Print the results for colors\n",
    "for color, count in model_colors.items():\n",
    "    print(f\"Color: {color}, Count: {count}\")\n"
   ]
  },
  {
   "cell_type": "code",
   "execution_count": 97,
   "id": "6e5d4c95",
   "metadata": {},
   "outputs": [],
   "source": [
    "top_5_models = df.sort_values('Number_Of_Reviews', ascending=False).head(5)[['Product_Name', 'Number_Of_Reviews']]\n"
   ]
  },
  {
   "cell_type": "code",
   "execution_count": 98,
   "id": "36ce7813",
   "metadata": {},
   "outputs": [
    {
     "data": {
      "text/html": [
       "<div>\n",
       "<style scoped>\n",
       "    .dataframe tbody tr th:only-of-type {\n",
       "        vertical-align: middle;\n",
       "    }\n",
       "\n",
       "    .dataframe tbody tr th {\n",
       "        vertical-align: top;\n",
       "    }\n",
       "\n",
       "    .dataframe thead th {\n",
       "        text-align: right;\n",
       "    }\n",
       "</style>\n",
       "<table border=\"1\" class=\"dataframe\">\n",
       "  <thead>\n",
       "    <tr style=\"text-align: right;\">\n",
       "      <th></th>\n",
       "      <th>Product_Name</th>\n",
       "      <th>Number_Of_Reviews</th>\n",
       "    </tr>\n",
       "  </thead>\n",
       "  <tbody>\n",
       "    <tr>\n",
       "      <th>23</th>\n",
       "      <td>Apple iPhone SE (White, 256 GB)</td>\n",
       "      <td>8161</td>\n",
       "    </tr>\n",
       "    <tr>\n",
       "      <th>53</th>\n",
       "      <td>APPLE iPhone SE (Black, 128 GB)</td>\n",
       "      <td>8161</td>\n",
       "    </tr>\n",
       "    <tr>\n",
       "      <th>55</th>\n",
       "      <td>APPLE iPhone SE (Red, 128 GB)</td>\n",
       "      <td>8161</td>\n",
       "    </tr>\n",
       "    <tr>\n",
       "      <th>57</th>\n",
       "      <td>APPLE iPhone SE (Black, 64 GB)</td>\n",
       "      <td>8161</td>\n",
       "    </tr>\n",
       "    <tr>\n",
       "      <th>52</th>\n",
       "      <td>APPLE iPhone SE (White, 64 GB)</td>\n",
       "      <td>8154</td>\n",
       "    </tr>\n",
       "  </tbody>\n",
       "</table>\n",
       "</div>"
      ],
      "text/plain": [
       "                       Product_Name  Number_Of_Reviews\n",
       "23  Apple iPhone SE (White, 256 GB)               8161\n",
       "53  APPLE iPhone SE (Black, 128 GB)               8161\n",
       "55    APPLE iPhone SE (Red, 128 GB)               8161\n",
       "57   APPLE iPhone SE (Black, 64 GB)               8161\n",
       "52   APPLE iPhone SE (White, 64 GB)               8154"
      ]
     },
     "execution_count": 98,
     "metadata": {},
     "output_type": "execute_result"
    }
   ],
   "source": [
    "top_5_models"
   ]
  },
  {
   "cell_type": "markdown",
   "id": "26c8332f",
   "metadata": {},
   "source": [
    "10 - what is the price diffrence between highest price and lowest price iphone (based on mrp)\n"
   ]
  },
  {
   "cell_type": "code",
   "execution_count": 106,
   "id": "8b2083ad",
   "metadata": {},
   "outputs": [],
   "source": [
    "highest_price_iphone= df['Mrp'].max()\n",
    "lowest_price_iphone =df['Mrp'].min()"
   ]
  },
  {
   "cell_type": "code",
   "execution_count": 107,
   "id": "7bb15c9b",
   "metadata": {},
   "outputs": [
    {
     "data": {
      "text/plain": [
       "110000"
      ]
     },
     "execution_count": 107,
     "metadata": {},
     "output_type": "execute_result"
    }
   ],
   "source": [
    "price_diff=highest_price_iphone-lowest_price_iphone\n",
    "price_diff"
   ]
  },
  {
   "cell_type": "markdown",
   "id": "0971459a",
   "metadata": {},
   "source": [
    "11 - find total no of reviews for iphone 11 and iphone 12 category . Output should have only 2 rows (for 11 and 12).\n"
   ]
  },
  {
   "cell_type": "code",
   "execution_count": 109,
   "id": "bb538434",
   "metadata": {},
   "outputs": [],
   "source": [
    "iphone_11_reviews = df[df['Product_Name'].str.contains('iPhone 11')]['Number_Of_Reviews'].sum()\n",
    "iphone_12_reviews = df[df['Product_Name'].str.contains('iPhone 12')]['Number_Of_Reviews'].sum()\n"
   ]
  },
  {
   "cell_type": "code",
   "execution_count": 112,
   "id": "c2935bf5",
   "metadata": {},
   "outputs": [
    {
     "data": {
      "text/html": [
       "<div>\n",
       "<style scoped>\n",
       "    .dataframe tbody tr th:only-of-type {\n",
       "        vertical-align: middle;\n",
       "    }\n",
       "\n",
       "    .dataframe tbody tr th {\n",
       "        vertical-align: top;\n",
       "    }\n",
       "\n",
       "    .dataframe thead th {\n",
       "        text-align: right;\n",
       "    }\n",
       "</style>\n",
       "<table border=\"1\" class=\"dataframe\">\n",
       "  <thead>\n",
       "    <tr style=\"text-align: right;\">\n",
       "      <th></th>\n",
       "      <th>iPhone_Category</th>\n",
       "      <th>Total_Reviews</th>\n",
       "    </tr>\n",
       "  </thead>\n",
       "  <tbody>\n",
       "    <tr>\n",
       "      <th>0</th>\n",
       "      <td>iPhone 11</td>\n",
       "      <td>25965</td>\n",
       "    </tr>\n",
       "    <tr>\n",
       "      <th>1</th>\n",
       "      <td>iPhone 12</td>\n",
       "      <td>2208</td>\n",
       "    </tr>\n",
       "  </tbody>\n",
       "</table>\n",
       "</div>"
      ],
      "text/plain": [
       "  iPhone_Category  Total_Reviews\n",
       "0       iPhone 11          25965\n",
       "1       iPhone 12           2208"
      ]
     },
     "execution_count": 112,
     "metadata": {},
     "output_type": "execute_result"
    }
   ],
   "source": [
    "reviews_by_category = pd.DataFrame({\n",
    "    'iPhone_Category': ['iPhone 11', 'iPhone 12'],\n",
    "    'Total_Reviews': [iphone_11_reviews, iphone_12_reviews]\n",
    "})\n",
    "reviews_by_category"
   ]
  },
  {
   "cell_type": "markdown",
   "id": "f6cea6fb",
   "metadata": {},
   "source": [
    "12- which iphone has 3rd highest MRP\n"
   ]
  },
  {
   "cell_type": "code",
   "execution_count": 115,
   "id": "d91fd461",
   "metadata": {},
   "outputs": [
    {
     "data": {
      "text/plain": [
       "140300"
      ]
     },
     "execution_count": 115,
     "metadata": {},
     "output_type": "execute_result"
    }
   ],
   "source": [
    "third_highest = df['Mrp'].sort_values(ascending=False).iloc[2]\n",
    "third_highest"
   ]
  },
  {
   "cell_type": "markdown",
   "id": "e9b79f6a",
   "metadata": {},
   "source": [
    "13- what is the average mrp of iphones which costs above 100,000\n"
   ]
  },
  {
   "cell_type": "code",
   "execution_count": 126,
   "id": "fcb0bee2",
   "metadata": {},
   "outputs": [
    {
     "name": "stdout",
     "output_type": "stream",
     "text": [
      "The average MRP of iPhones costing above 100,000 is: 130559.09090909091\n"
     ]
    }
   ],
   "source": [
    "filtered_df = df[df['Mrp'] > 100000]\n",
    "average_mrp = filtered_df['Mrp'].mean()\n",
    "\n",
    "print(f\"The average MRP of iPhones costing above 100,000 is: {average_mrp}\")"
   ]
  },
  {
   "cell_type": "markdown",
   "id": "d03b5e88",
   "metadata": {},
   "source": [
    "14- which iphone with 128 GB space has highest ratings to review ratio."
   ]
  },
  {
   "cell_type": "code",
   "execution_count": 131,
   "id": "ea25f48b",
   "metadata": {},
   "outputs": [],
   "source": [
    "filtered_df = df[df['Ram'].str.contains('128 GB')]['Number_Of_Reviews'].sort_values(ascending=False)\n"
   ]
  },
  {
   "cell_type": "code",
   "execution_count": 135,
   "id": "567e3adc",
   "metadata": {},
   "outputs": [
    {
     "name": "stdout",
     "output_type": "stream",
     "text": [
      "The iPhone with 128 GB space and the highest ratings to review ratio is: APPLE iPhone 12 Pro (Graphite, 256 GB)\n"
     ]
    },
    {
     "name": "stderr",
     "output_type": "stream",
     "text": [
      "C:\\Users\\Tanu\\AppData\\Local\\Temp\\ipykernel_9076\\3595275716.py:2: SettingWithCopyWarning: \n",
      "A value is trying to be set on a copy of a slice from a DataFrame.\n",
      "Try using .loc[row_indexer,col_indexer] = value instead\n",
      "\n",
      "See the caveats in the documentation: https://pandas.pydata.org/pandas-docs/stable/user_guide/indexing.html#returning-a-view-versus-a-copy\n",
      "  filtered_df['Ratings_to_Review_Ratio'] = filtered_df['Star_Rating'] / filtered_df['Number_Of_Reviews']\n"
     ]
    }
   ],
   "source": [
    "# Calculate the ratings to review ratio\n",
    "filtered_df['Ratings_to_Review_Ratio'] = filtered_df['Star_Rating'] / filtered_df['Number_Of_Reviews']\n",
    "\n",
    "\n",
    "# Sort the DataFrame by the ratings to review ratio in descending order\n",
    "sorted_df = filtered_df.sort_values('Ratings_to_Review_Ratio', ascending=False)\n",
    "# Get the iPhone with the highest ratings to review ratio\n",
    "iphone_highest_ratio = sorted_df.iloc[0]['Product_Name']\n",
    "\n",
    "print(f\"The iPhone with 128 GB space and the highest ratings to review ratio is: {iphone_highest_ratio}\")\n"
   ]
  },
  {
   "cell_type": "code",
   "execution_count": null,
   "id": "d82b13e3",
   "metadata": {},
   "outputs": [],
   "source": []
  }
 ],
 "metadata": {
  "kernelspec": {
   "display_name": "Python 3 (ipykernel)",
   "language": "python",
   "name": "python3"
  },
  "language_info": {
   "codemirror_mode": {
    "name": "ipython",
    "version": 3
   },
   "file_extension": ".py",
   "mimetype": "text/x-python",
   "name": "python",
   "nbconvert_exporter": "python",
   "pygments_lexer": "ipython3",
   "version": "3.11.3"
  }
 },
 "nbformat": 4,
 "nbformat_minor": 5
}
