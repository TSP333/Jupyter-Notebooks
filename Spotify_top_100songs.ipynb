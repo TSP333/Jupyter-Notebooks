{
 "cells": [
  {
   "cell_type": "code",
   "execution_count": 107,
   "id": "b5693f0b",
   "metadata": {},
   "outputs": [],
   "source": [
    "import spotipy\n",
    "from spotipy.oauth2 import SpotifyClientCredentials\n",
    "from datetime import datetime\n",
    "\n",
    "spotify = spotipy.Spotify(client_credentials_manager=SpotifyClientCredentials('3b3b870bf8564d6391a8f58b8e0103db','8d41edd38eb54bc0b1447118d7d4e223'))"
   ]
  },
  {
   "cell_type": "code",
   "execution_count": 92,
   "id": "2a3eb672",
   "metadata": {},
   "outputs": [],
   "source": [
    "tracks = spotify.playlist_tracks('6QGk7b8naF3ZPljgPtWMAD')"
   ]
  },
  {
   "cell_type": "code",
   "execution_count": 93,
   "id": "8cc8fced",
   "metadata": {},
   "outputs": [
    {
     "data": {
      "text/plain": [
       "dict_keys(['href', 'items', 'limit', 'next', 'offset', 'previous', 'total'])"
      ]
     },
     "execution_count": 93,
     "metadata": {},
     "output_type": "execute_result"
    }
   ],
   "source": [
    "tracks.keys()"
   ]
  },
  {
   "cell_type": "code",
   "execution_count": 94,
   "id": "8b3bfd8f",
   "metadata": {},
   "outputs": [
    {
     "data": {
      "text/plain": [
       "166"
      ]
     },
     "execution_count": 94,
     "metadata": {},
     "output_type": "execute_result"
    }
   ],
   "source": [
    "tracks['total']"
   ]
  },
  {
   "cell_type": "code",
   "execution_count": 95,
   "id": "e4cc5f56",
   "metadata": {},
   "outputs": [
    {
     "data": {
      "text/plain": [
       "dict_keys(['added_at', 'added_by', 'is_local', 'primary_color', 'track', 'video_thumbnail'])"
      ]
     },
     "execution_count": 95,
     "metadata": {},
     "output_type": "execute_result"
    }
   ],
   "source": [
    "tracks['items'][0].keys()"
   ]
  },
  {
   "cell_type": "code",
   "execution_count": 145,
   "id": "dfdb4b36",
   "metadata": {},
   "outputs": [],
   "source": [
    "track= tracks['items'][99]"
   ]
  },
  {
   "cell_type": "code",
   "execution_count": 97,
   "id": "e9f626eb",
   "metadata": {},
   "outputs": [
    {
     "data": {
      "text/plain": [
       "{'album': {'album_type': 'single',\n",
       "  'artists': [{'external_urls': {'spotify': 'https://open.spotify.com/artist/7xj1YIDzHU6vkUwP76NEyx'},\n",
       "    'href': 'https://api.spotify.com/v1/artists/7xj1YIDzHU6vkUwP76NEyx',\n",
       "    'id': '7xj1YIDzHU6vkUwP76NEyx',\n",
       "    'name': 'Music Factory',\n",
       "    'type': 'artist',\n",
       "    'uri': 'spotify:artist:7xj1YIDzHU6vkUwP76NEyx'}],\n",
       "  'available_markets': [],\n",
       "  'external_urls': {'spotify': 'https://open.spotify.com/album/6qgpecnfEe4zUcjOEQA3x1'},\n",
       "  'href': 'https://api.spotify.com/v1/albums/6qgpecnfEe4zUcjOEQA3x1',\n",
       "  'id': '6qgpecnfEe4zUcjOEQA3x1',\n",
       "  'images': [{'height': 640,\n",
       "    'url': 'https://i.scdn.co/image/ab67616d0000b273fc58a570254fd23a71331f8c',\n",
       "    'width': 640},\n",
       "   {'height': 300,\n",
       "    'url': 'https://i.scdn.co/image/ab67616d00001e02fc58a570254fd23a71331f8c',\n",
       "    'width': 300},\n",
       "   {'height': 64,\n",
       "    'url': 'https://i.scdn.co/image/ab67616d00004851fc58a570254fd23a71331f8c',\n",
       "    'width': 64}],\n",
       "  'name': 'Reminder (Tik Tok Sped Up) [Remix]',\n",
       "  'release_date': '2023-03-13',\n",
       "  'release_date_precision': 'day',\n",
       "  'total_tracks': 1,\n",
       "  'type': 'album',\n",
       "  'uri': 'spotify:album:6qgpecnfEe4zUcjOEQA3x1'},\n",
       " 'artists': [{'external_urls': {'spotify': 'https://open.spotify.com/artist/7xj1YIDzHU6vkUwP76NEyx'},\n",
       "   'href': 'https://api.spotify.com/v1/artists/7xj1YIDzHU6vkUwP76NEyx',\n",
       "   'id': '7xj1YIDzHU6vkUwP76NEyx',\n",
       "   'name': 'Music Factory',\n",
       "   'type': 'artist',\n",
       "   'uri': 'spotify:artist:7xj1YIDzHU6vkUwP76NEyx'}],\n",
       " 'available_markets': [],\n",
       " 'disc_number': 1,\n",
       " 'duration_ms': 199276,\n",
       " 'episode': False,\n",
       " 'explicit': False,\n",
       " 'external_ids': {'isrc': 'ARIXB2303472'},\n",
       " 'external_urls': {'spotify': 'https://open.spotify.com/track/5XQGAOah0D3whV0cdJYGJA'},\n",
       " 'href': 'https://api.spotify.com/v1/tracks/5XQGAOah0D3whV0cdJYGJA',\n",
       " 'id': '5XQGAOah0D3whV0cdJYGJA',\n",
       " 'is_local': False,\n",
       " 'name': 'Reminder (Tik Tok Sped Up) - Remix',\n",
       " 'popularity': 9,\n",
       " 'preview_url': None,\n",
       " 'track': True,\n",
       " 'track_number': 1,\n",
       " 'type': 'track',\n",
       " 'uri': 'spotify:track:5XQGAOah0D3whV0cdJYGJA'}"
      ]
     },
     "execution_count": 97,
     "metadata": {},
     "output_type": "execute_result"
    }
   ],
   "source": [
    "track['track']"
   ]
  },
  {
   "cell_type": "code",
   "execution_count": 109,
   "id": "efc164a3",
   "metadata": {},
   "outputs": [
    {
     "data": {
      "text/plain": [
       "datetime.datetime"
      ]
     },
     "execution_count": 109,
     "metadata": {},
     "output_type": "execute_result"
    }
   ],
   "source": [
    "release_date=track['track']['album']['release_date']\n",
    "\n",
    "release_date = datetime.strptime(release_date_str, '%Y-%m-%d')\n",
    "\n",
    "data_type = type(release_date)\n",
    "data_type\n"
   ]
  },
  {
   "cell_type": "code",
   "execution_count": 153,
   "id": "301604ed",
   "metadata": {},
   "outputs": [
    {
     "data": {
      "text/plain": [
       "{'album_type': 'single',\n",
       " 'artists': [{'external_urls': {'spotify': 'https://open.spotify.com/artist/7xj1YIDzHU6vkUwP76NEyx'},\n",
       "   'href': 'https://api.spotify.com/v1/artists/7xj1YIDzHU6vkUwP76NEyx',\n",
       "   'id': '7xj1YIDzHU6vkUwP76NEyx',\n",
       "   'name': 'Music Factory',\n",
       "   'type': 'artist',\n",
       "   'uri': 'spotify:artist:7xj1YIDzHU6vkUwP76NEyx'}],\n",
       " 'available_markets': [],\n",
       " 'external_urls': {'spotify': 'https://open.spotify.com/album/6qgpecnfEe4zUcjOEQA3x1'},\n",
       " 'href': 'https://api.spotify.com/v1/albums/6qgpecnfEe4zUcjOEQA3x1',\n",
       " 'id': '6qgpecnfEe4zUcjOEQA3x1',\n",
       " 'images': [{'height': 640,\n",
       "   'url': 'https://i.scdn.co/image/ab67616d0000b273fc58a570254fd23a71331f8c',\n",
       "   'width': 640},\n",
       "  {'height': 300,\n",
       "   'url': 'https://i.scdn.co/image/ab67616d00001e02fc58a570254fd23a71331f8c',\n",
       "   'width': 300},\n",
       "  {'height': 64,\n",
       "   'url': 'https://i.scdn.co/image/ab67616d00004851fc58a570254fd23a71331f8c',\n",
       "   'width': 64}],\n",
       " 'name': 'Reminder (Tik Tok Sped Up) [Remix]',\n",
       " 'release_date': Timestamp('2023-03-13 00:00:00'),\n",
       " 'release_date_precision': 'day',\n",
       " 'total_tracks': 1,\n",
       " 'type': 'album',\n",
       " 'uri': 'spotify:album:6qgpecnfEe4zUcjOEQA3x1'}"
      ]
     },
     "execution_count": 153,
     "metadata": {},
     "output_type": "execute_result"
    }
   ],
   "source": [
    "track['track']['name']\n",
    "track['track']['id']\n",
    "round(track['track']['duration_ms'] / (1000 * 60),2)\n",
    "track['track']['popularity']\n",
    "track['track']['episode']\n",
    "track['track']['artists']\n",
    "track['track']['album']\n",
    "\n",
    "##track['track']['track_number']"
   ]
  },
  {
   "cell_type": "code",
   "execution_count": 119,
   "id": "18e56a6f",
   "metadata": {},
   "outputs": [
    {
     "ename": "KeyError",
     "evalue": "'release_date'",
     "output_type": "error",
     "traceback": [
      "\u001b[1;31m---------------------------------------------------------------------------\u001b[0m",
      "\u001b[1;31mKeyError\u001b[0m                                  Traceback (most recent call last)",
      "Cell \u001b[1;32mIn[119], line 1\u001b[0m\n\u001b[1;32m----> 1\u001b[0m track[\u001b[38;5;124m'\u001b[39m\u001b[38;5;124mrelease_date\u001b[39m\u001b[38;5;124m'\u001b[39m] \u001b[38;5;241m=\u001b[39m pd\u001b[38;5;241m.\u001b[39mto_datetime(\u001b[43mtrack\u001b[49m\u001b[43m[\u001b[49m\u001b[38;5;124;43m'\u001b[39;49m\u001b[38;5;124;43mrelease_date\u001b[39;49m\u001b[38;5;124;43m'\u001b[39;49m\u001b[43m]\u001b[49m)\n",
      "\u001b[1;31mKeyError\u001b[0m: 'release_date'"
     ]
    }
   ],
   "source": [
    "track['release_date'] = pd.to_datetime(track['release_date'])"
   ]
  },
  {
   "cell_type": "code",
   "execution_count": 157,
   "id": "7acd74f8",
   "metadata": {},
   "outputs": [],
   "source": [
    "names=[]\n",
    "ids=[]\n",
    "duration=[]\n",
    "album_type = []\n",
    "artist_name=[]\n",
    "date_added=[]\n",
    "date=[]\n",
    "\n",
    "for track in tracks['items']:\n",
    "    names.append(track['track']['name'])\n",
    "    ids.append(track['track']['id'])\n",
    "    duration.append(track['track']['duration_ms'] / (1000 * 60))\n",
    "    album_type.append(track['track']['album']['album_type'])\n",
    "    artists = track['track']['artists']\n",
    "    artists_list = [artist['name'] for artist in artists]\n",
    "    artist_name.append(artists_list)\n",
    "    track['track']['album']['release_date']= pd.to_datetime(track['track']['album']['release_date'])\n",
    "    date.append(track['track']['album']['release_date'])\n",
    "    #track['track']['album']['release_date']=pd.to_datetime(release_date_str)\n",
    "   # release_date.append(release_date)\n",
    "   ## pd = pd.json_normalize(track['track']).T.reset_index(drop=True)"
   ]
  },
  {
   "cell_type": "code",
   "execution_count": 158,
   "id": "34a1c159",
   "metadata": {},
   "outputs": [],
   "source": [
    "import pandas as pd\n",
    "df = pd.DataFrame({'name':names , 'id':ids , 'duration': duration,'album_type' : album_type,'artist':artist_name,'release_date':date})"
   ]
  },
  {
   "cell_type": "code",
   "execution_count": 122,
   "id": "e550cf5c",
   "metadata": {},
   "outputs": [
    {
     "data": {
      "text/plain": [
       "name                    object\n",
       "id                      object\n",
       "duration               float64\n",
       "album_type              object\n",
       "artist                  object\n",
       "release_date    datetime64[ns]\n",
       "dtype: object"
      ]
     },
     "execution_count": 122,
     "metadata": {},
     "output_type": "execute_result"
    }
   ],
   "source": [
    "df.dtypes"
   ]
  },
  {
   "cell_type": "code",
   "execution_count": 163,
   "id": "aa0cb445",
   "metadata": {},
   "outputs": [
    {
     "data": {
      "text/html": [
       "<div>\n",
       "<style scoped>\n",
       "    .dataframe tbody tr th:only-of-type {\n",
       "        vertical-align: middle;\n",
       "    }\n",
       "\n",
       "    .dataframe tbody tr th {\n",
       "        vertical-align: top;\n",
       "    }\n",
       "\n",
       "    .dataframe thead th {\n",
       "        text-align: right;\n",
       "    }\n",
       "</style>\n",
       "<table border=\"1\" class=\"dataframe\">\n",
       "  <thead>\n",
       "    <tr style=\"text-align: right;\">\n",
       "      <th></th>\n",
       "      <th>name</th>\n",
       "      <th>id</th>\n",
       "      <th>duration</th>\n",
       "      <th>album_type</th>\n",
       "      <th>artist</th>\n",
       "      <th>release_date</th>\n",
       "    </tr>\n",
       "  </thead>\n",
       "  <tbody>\n",
       "    <tr>\n",
       "      <th>0</th>\n",
       "      <td>Kill Bill</td>\n",
       "      <td>1Qrg8KqiBpW07V7PNxwwwL</td>\n",
       "      <td>2.57</td>\n",
       "      <td>album</td>\n",
       "      <td>SZA</td>\n",
       "      <td>2022-12-08</td>\n",
       "    </tr>\n",
       "    <tr>\n",
       "      <th>1</th>\n",
       "      <td>Escapism.</td>\n",
       "      <td>5Z2MiIZ5I3jJvvmeWMLbOQ</td>\n",
       "      <td>4.54</td>\n",
       "      <td>single</td>\n",
       "      <td>RAYE,070 Shake</td>\n",
       "      <td>2022-10-12</td>\n",
       "    </tr>\n",
       "    <tr>\n",
       "      <th>2</th>\n",
       "      <td>Anti-Hero</td>\n",
       "      <td>0V3wPSX9ygBnCm8psDIegu</td>\n",
       "      <td>3.34</td>\n",
       "      <td>album</td>\n",
       "      <td>Taylor Swift</td>\n",
       "      <td>2022-10-21</td>\n",
       "    </tr>\n",
       "    <tr>\n",
       "      <th>3</th>\n",
       "      <td>Here With Me</td>\n",
       "      <td>78Sw5GDo6AlGwTwanjXbGh</td>\n",
       "      <td>4.04</td>\n",
       "      <td>single</td>\n",
       "      <td>d4vd</td>\n",
       "      <td>2022-09-22</td>\n",
       "    </tr>\n",
       "    <tr>\n",
       "      <th>4</th>\n",
       "      <td>golden hour</td>\n",
       "      <td>5odlY52u43F5BjByhxg7wg</td>\n",
       "      <td>3.49</td>\n",
       "      <td>album</td>\n",
       "      <td>JVKE</td>\n",
       "      <td>2022-09-23</td>\n",
       "    </tr>\n",
       "    <tr>\n",
       "      <th>...</th>\n",
       "      <td>...</td>\n",
       "      <td>...</td>\n",
       "      <td>...</td>\n",
       "      <td>...</td>\n",
       "      <td>...</td>\n",
       "      <td>...</td>\n",
       "    </tr>\n",
       "    <tr>\n",
       "      <th>95</th>\n",
       "      <td>Obsessed</td>\n",
       "      <td>5EGPf0nqO7vEIwsOX6Er98</td>\n",
       "      <td>4.04</td>\n",
       "      <td>album</td>\n",
       "      <td>Mariah Carey</td>\n",
       "      <td>2009-09-29</td>\n",
       "    </tr>\n",
       "    <tr>\n",
       "      <th>96</th>\n",
       "      <td>obsessed (speed up) - Remix</td>\n",
       "      <td>1onQUQZMGAO3hWT9qv24cP</td>\n",
       "      <td>3.58</td>\n",
       "      <td>single</td>\n",
       "      <td>Muppet DJ,SECA Records</td>\n",
       "      <td>2023-01-19</td>\n",
       "    </tr>\n",
       "    <tr>\n",
       "      <th>97</th>\n",
       "      <td>Open Arms (feat. Travis Scott)</td>\n",
       "      <td>0xaFw2zDYf1rIJWl2dXiSF</td>\n",
       "      <td>3.99</td>\n",
       "      <td>album</td>\n",
       "      <td>SZA,Travis Scott</td>\n",
       "      <td>2022-12-09</td>\n",
       "    </tr>\n",
       "    <tr>\n",
       "      <th>98</th>\n",
       "      <td></td>\n",
       "      <td>19UFHP6E2J4mj0NC7fv8qj</td>\n",
       "      <td>0.00</td>\n",
       "      <td>single</td>\n",
       "      <td></td>\n",
       "      <td>2023-03-13</td>\n",
       "    </tr>\n",
       "    <tr>\n",
       "      <th>99</th>\n",
       "      <td>Reminder (Tik Tok Sped Up) - Remix</td>\n",
       "      <td>5XQGAOah0D3whV0cdJYGJA</td>\n",
       "      <td>3.32</td>\n",
       "      <td>single</td>\n",
       "      <td>Music Factory</td>\n",
       "      <td>2023-03-13</td>\n",
       "    </tr>\n",
       "  </tbody>\n",
       "</table>\n",
       "<p>100 rows × 6 columns</p>\n",
       "</div>"
      ],
      "text/plain": [
       "                                  name                      id  duration  \\\n",
       "0                            Kill Bill  1Qrg8KqiBpW07V7PNxwwwL      2.57   \n",
       "1                            Escapism.  5Z2MiIZ5I3jJvvmeWMLbOQ      4.54   \n",
       "2                            Anti-Hero  0V3wPSX9ygBnCm8psDIegu      3.34   \n",
       "3                         Here With Me  78Sw5GDo6AlGwTwanjXbGh      4.04   \n",
       "4                          golden hour  5odlY52u43F5BjByhxg7wg      3.49   \n",
       "..                                 ...                     ...       ...   \n",
       "95                            Obsessed  5EGPf0nqO7vEIwsOX6Er98      4.04   \n",
       "96         obsessed (speed up) - Remix  1onQUQZMGAO3hWT9qv24cP      3.58   \n",
       "97      Open Arms (feat. Travis Scott)  0xaFw2zDYf1rIJWl2dXiSF      3.99   \n",
       "98                                      19UFHP6E2J4mj0NC7fv8qj      0.00   \n",
       "99  Reminder (Tik Tok Sped Up) - Remix  5XQGAOah0D3whV0cdJYGJA      3.32   \n",
       "\n",
       "   album_type                  artist release_date  \n",
       "0       album                     SZA   2022-12-08  \n",
       "1      single          RAYE,070 Shake   2022-10-12  \n",
       "2       album            Taylor Swift   2022-10-21  \n",
       "3      single                    d4vd   2022-09-22  \n",
       "4       album                    JVKE   2022-09-23  \n",
       "..        ...                     ...          ...  \n",
       "95      album            Mariah Carey   2009-09-29  \n",
       "96     single  Muppet DJ,SECA Records   2023-01-19  \n",
       "97      album        SZA,Travis Scott   2022-12-09  \n",
       "98     single                           2023-03-13  \n",
       "99     single           Music Factory   2023-03-13  \n",
       "\n",
       "[100 rows x 6 columns]"
      ]
     },
     "execution_count": 163,
     "metadata": {},
     "output_type": "execute_result"
    }
   ],
   "source": [
    "df"
   ]
  },
  {
   "cell_type": "code",
   "execution_count": 160,
   "id": "3c498876",
   "metadata": {},
   "outputs": [],
   "source": [
    "# Assuming 'df' is your DataFrame containing the 'artist' column as lists\n",
    "df_exploded = df.explode('artist')\n",
    "# Serialize the 'artist' column to a comma-separated string\n",
    "df['artist'] = df['artist'].apply(','.join)\n",
    "df['duration']=round(df['duration'],2)"
   ]
  },
  {
   "cell_type": "code",
   "execution_count": 161,
   "id": "c1c4b554",
   "metadata": {},
   "outputs": [],
   "source": [
    "import pandas as pd\n",
    "import sqlalchemy as sal\n",
    "\n",
    "engine = sal.create_engine('mssql://DESKTOP-DIMU1P8\\SQLEXPRESS/master?driver=ODBC+DRIVER+17+FOR+SQL+SERVER')\n",
    "conn=engine.connect()"
   ]
  },
  {
   "cell_type": "code",
   "execution_count": 162,
   "id": "565045e2",
   "metadata": {},
   "outputs": [],
   "source": [
    "# Replace 'your_table_name' with the desired table name\n",
    "table_name = 'spotify_songs'\n",
    "df_sql=df.to_sql(table_name, engine, index=False, if_exists='replace')\n"
   ]
  },
  {
   "cell_type": "code",
   "execution_count": 127,
   "id": "fa58b1f8",
   "metadata": {},
   "outputs": [
    {
     "data": {
      "text/plain": [
       "100"
      ]
     },
     "execution_count": 127,
     "metadata": {},
     "output_type": "execute_result"
    }
   ],
   "source": [
    "df_sql"
   ]
  },
  {
   "cell_type": "code",
   "execution_count": 132,
   "id": "ac25f038",
   "metadata": {},
   "outputs": [],
   "source": [
    "# Query to find the top artist based on the number of occurrences in the table\n",
    "query_top_artist = \"\"\"\n",
    "SELECT TOP 1 artist, COUNT(*) as num_occurrences\n",
    "FROM spotify_songs\n",
    "GROUP BY artist\n",
    "ORDER BY num_occurrences DESC\n",
    "\"\"\"\n"
   ]
  },
  {
   "cell_type": "code",
   "execution_count": 129,
   "id": "06c17602",
   "metadata": {},
   "outputs": [
    {
     "data": {
      "text/plain": [
       "'\\nSELECT TOP 1 artist, COUNT(*) as num_occurrences\\nFROM spotify_songs\\nGROUP BY artist\\nORDER BY num_occurrences DESC\\n'"
      ]
     },
     "execution_count": 129,
     "metadata": {},
     "output_type": "execute_result"
    }
   ],
   "source": [
    "sql_query"
   ]
  },
  {
   "cell_type": "code",
   "execution_count": 133,
   "id": "8fbac8d1",
   "metadata": {},
   "outputs": [
    {
     "name": "stdout",
     "output_type": "stream",
     "text": [
      "Top Artist (SQL):   artist  num_occurrences\n",
      "0    SZA                7\n"
     ]
    }
   ],
   "source": [
    "import pyodbc\n",
    "# Execute the SQL query and store the result in a DataFrame\n",
    "#['artist'].values[0]\n",
    "\n",
    "top_artist_sql = pd.read_sql(query_top_artist, conn)\n",
    "print(\"Top Artist (SQL):\", top_artist_sql)"
   ]
  },
  {
   "cell_type": "code",
   "execution_count": 134,
   "id": "e6981566",
   "metadata": {},
   "outputs": [],
   "source": [
    "query_avg_duration =\"\"\"\n",
    "WITH duration_min AS \n",
    "(\n",
    "    SELECT\n",
    "        name,\n",
    "        (duration / 100) * 60 AS duration_in_minutes\n",
    "    FROM\n",
    "        spotify_songs\n",
    ")\n",
    "SELECT\n",
    "    AVG(duration_in_minutes) AS average_duration\n",
    "FROM\n",
    "    duration_min;\n",
    "\n",
    "\"\"\"\n"
   ]
  },
  {
   "cell_type": "code",
   "execution_count": null,
   "id": "b92e1518",
   "metadata": {},
   "outputs": [],
   "source": [
    "avg_duration_sql = pd.read_sql(query_avg_duration, conn)\n",
    "print(\"Avg duration of the songs\", query_avg_duration)"
   ]
  }
 ],
 "metadata": {
  "kernelspec": {
   "display_name": "Python 3 (ipykernel)",
   "language": "python",
   "name": "python3"
  },
  "language_info": {
   "codemirror_mode": {
    "name": "ipython",
    "version": 3
   },
   "file_extension": ".py",
   "mimetype": "text/x-python",
   "name": "python",
   "nbconvert_exporter": "python",
   "pygments_lexer": "ipython3",
   "version": "3.11.3"
  }
 },
 "nbformat": 4,
 "nbformat_minor": 5
}
